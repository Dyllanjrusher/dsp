{
 "cells": [
  {
   "cell_type": "code",
   "execution_count": 1,
   "metadata": {},
   "outputs": [
    {
     "name": "stdout",
     "output_type": "stream",
     "text": [
      "Python Version: 3.7.6 (default, Jan  8 2020, 19:59:22) \n",
      "[GCC 7.3.0] \n",
      "\n"
     ]
    }
   ],
   "source": [
    "import sys\n",
    "print(\"Python Version:\", sys.version, '\\n')"
   ]
  },
  {
   "cell_type": "markdown",
   "metadata": {},
   "source": [
    "# Pickle: Saving Objects for Later"
   ]
  },
  {
   "cell_type": "markdown",
   "metadata": {},
   "source": [
    "Often in data science, we'll create some model or some version of our data and want to use it later. We have many options - we can save the coefficients, or save the data to csv, or...\n",
    "\n",
    "Actually, we don't have that many options. \n",
    "\n",
    "One way to overcome that is to save the python object to a file as a serialized object. That means we convert the entire object to a bunch of bytes, save those bytes into a file, and then have the ability to unpack those bytes back into their original format later. \n",
    "\n",
    "This is done by a module called `pickle`. Let's see it in action."
   ]
  },
  {
   "cell_type": "code",
   "execution_count": 11,
   "metadata": {},
   "outputs": [],
   "source": [
    "import pickle\n",
    "import random\n",
    "\n",
    "lots_of_noise = {\n",
    "    'CA': [random.randint(0,65) for _ in range(100)],\n",
    "    'IL': [random.randint(0,65) for _ in range(50)],\n",
    "    'NY': [random.randint(0,65) for _ in range(90)],\n",
    "    'WA': [random.randint(0,65) for _ in range(33)]\n",
    "}"
   ]
  },
  {
   "cell_type": "code",
   "execution_count": 12,
   "metadata": {},
   "outputs": [
    {
     "name": "stdout",
     "output_type": "stream",
     "text": [
      "{'CA': [60, 58, 63, 9, 22, 14, 51, 54, 17, 20, 11, 23, 44, 3, 61, 55, 32, 40, 28, 22, 56, 46, 39, 11, 14, 9, 15, 15, 63, 61, 40, 31, 30, 37, 46, 20, 32, 62, 65, 41, 28, 61, 44, 61, 29, 53, 26, 35, 52, 27, 12, 37, 16, 55, 45, 16, 18, 9, 5, 19, 62, 44, 59, 43, 55, 43, 52, 53, 36, 57, 39, 56, 23, 4, 45, 56, 54, 43, 46, 11, 55, 8, 18, 60, 4, 43, 47, 39, 44, 52, 59, 58, 21, 25, 42, 59, 7, 56, 51, 50], 'IL': [49, 55, 14, 58, 61, 17, 14, 10, 36, 20, 17, 20, 50, 19, 16, 52, 49, 36, 58, 33, 12, 41, 60, 53, 21, 1, 17, 60, 48, 49, 38, 64, 51, 20, 16, 35, 34, 38, 2, 39, 12, 3, 1, 12, 12, 17, 52, 52, 0, 57], 'NY': [38, 50, 21, 42, 38, 61, 11, 35, 32, 22, 36, 0, 17, 46, 50, 64, 34, 7, 57, 8, 27, 45, 64, 37, 56, 36, 35, 4, 13, 29, 17, 0, 35, 61, 36, 30, 48, 52, 27, 53, 4, 41, 53, 59, 36, 14, 34, 55, 13, 46, 3, 57, 36, 59, 57, 47, 42, 55, 40, 52, 29, 53, 43, 38, 0, 9, 47, 16, 12, 11, 8, 45, 57, 9, 1, 4, 8, 42, 53, 49, 22, 23, 48, 33, 42, 52, 45, 24, 32, 20], 'WA': [31, 42, 30, 20, 11, 60, 14, 64, 63, 20, 18, 47, 4, 65, 28, 4, 2, 44, 45, 34, 38, 25, 2, 51, 1, 49, 14, 59, 62, 63, 20, 34, 61]}\n"
     ]
    }
   ],
   "source": [
    "print(lots_of_noise)"
   ]
  },
  {
   "cell_type": "code",
   "execution_count": 13,
   "metadata": {},
   "outputs": [
    {
     "name": "stdout",
     "output_type": "stream",
     "text": [
      "Variable        Type      Data/Info\n",
      "-----------------------------------\n",
      "lots_of_noise   dict      n=4\n",
      "pickle          module    <module 'pickle' from '/h<...>lib/python3.7/pickle.py'>\n",
      "random          module    <module 'random' from '/h<...>lib/python3.7/random.py'>\n",
      "sys             module    <module 'sys' (built-in)>\n"
     ]
    }
   ],
   "source": [
    "whos"
   ]
  },
  {
   "cell_type": "markdown",
   "metadata": {},
   "source": [
    "We can see in this `whos` command that the object `lots_of_noise` exists and is a `dict` with 4 keys. Nice. Now let's look at our file system and verify that there isn't a file called `noise.pickle`."
   ]
  },
  {
   "cell_type": "code",
   "execution_count": 14,
   "metadata": {},
   "outputs": [
    {
     "name": "stdout",
     "output_type": "stream",
     "text": [
      "advanced_python_datatypes.ipynb  my_dataframe.pickle\r\n",
      "complexity.md\t\t\t noise.pickle\r\n",
      "deep_and_shallow_copy.ipynb\t pickle_saving_objects_for_later.ipynb\r\n",
      "deep_copy_demo\t\t\t readme.md\r\n"
     ]
    }
   ],
   "source": [
    "!ls"
   ]
  },
  {
   "cell_type": "markdown",
   "metadata": {},
   "source": [
    "Okay, now we're ready to create a file and write the bytes to it. To do this with `pickle`, we use python's read-write streamer `open` and create a writable-binary (`wb`) file. We'll then use `pickle.dump` to put an object into that file as a string of bytes."
   ]
  },
  {
   "cell_type": "code",
   "execution_count": 16,
   "metadata": {},
   "outputs": [],
   "source": [
    "with open('noise.pickle', 'wb') as to_write:\n",
    "    pickle.dump(lots_of_noise, to_write)"
   ]
  },
  {
   "cell_type": "code",
   "execution_count": 17,
   "metadata": {},
   "outputs": [
    {
     "name": "stdout",
     "output_type": "stream",
     "text": [
      "advanced_python_datatypes.ipynb  my_dataframe.pickle\r\n",
      "complexity.md\t\t\t noise.pickle\r\n",
      "deep_and_shallow_copy.ipynb\t pickle_saving_objects_for_later.ipynb\r\n",
      "deep_copy_demo\t\t\t readme.md\r\n"
     ]
    }
   ],
   "source": [
    "!ls"
   ]
  },
  {
   "cell_type": "markdown",
   "metadata": {},
   "source": [
    "Now let's delete `lots_of_noise` and prove to ourselves it doesn't exist in Python's memory anymore."
   ]
  },
  {
   "cell_type": "code",
   "execution_count": 18,
   "metadata": {},
   "outputs": [],
   "source": [
    "del lots_of_noise"
   ]
  },
  {
   "cell_type": "code",
   "execution_count": 19,
   "metadata": {},
   "outputs": [
    {
     "name": "stdout",
     "output_type": "stream",
     "text": [
      "Variable   Type              Data/Info\n",
      "--------------------------------------\n",
      "pickle     module            <module 'pickle' from '/h<...>lib/python3.7/pickle.py'>\n",
      "random     module            <module 'random' from '/h<...>lib/python3.7/random.py'>\n",
      "sys        module            <module 'sys' (built-in)>\n",
      "to_write   BufferedWriter    <_io.BufferedWriter name='noise.pickle'>\n"
     ]
    }
   ],
   "source": [
    "whos"
   ]
  },
  {
   "cell_type": "code",
   "execution_count": 20,
   "metadata": {},
   "outputs": [
    {
     "ename": "NameError",
     "evalue": "name 'lots_of_noise' is not defined",
     "output_type": "error",
     "traceback": [
      "\u001b[0;31m---------------------------------------------------------------------------\u001b[0m",
      "\u001b[0;31mNameError\u001b[0m                                 Traceback (most recent call last)",
      "\u001b[0;32m<ipython-input-20-69f22b4d5ca8>\u001b[0m in \u001b[0;36m<module>\u001b[0;34m\u001b[0m\n\u001b[0;32m----> 1\u001b[0;31m \u001b[0mprint\u001b[0m\u001b[0;34m(\u001b[0m\u001b[0mlots_of_noise\u001b[0m\u001b[0;34m)\u001b[0m\u001b[0;34m\u001b[0m\u001b[0;34m\u001b[0m\u001b[0m\n\u001b[0m",
      "\u001b[0;31mNameError\u001b[0m: name 'lots_of_noise' is not defined"
     ]
    }
   ],
   "source": [
    "print(lots_of_noise)"
   ]
  },
  {
   "cell_type": "markdown",
   "metadata": {},
   "source": [
    "Lovely. It's dead forever. Or is it?\n",
    "\n",
    "Let's open that `noise.pickle` file with read-binary (`rb`) mode. Then we'll ask pickle to retrieve the file with `pickle.load` and store it back in a variable."
   ]
  },
  {
   "cell_type": "code",
   "execution_count": 21,
   "metadata": {},
   "outputs": [],
   "source": [
    "with open('noise.pickle','rb') as read_file:\n",
    "    new_noise = pickle.load(read_file)"
   ]
  },
  {
   "cell_type": "code",
   "execution_count": 22,
   "metadata": {},
   "outputs": [
    {
     "name": "stdout",
     "output_type": "stream",
     "text": [
      "{'CA': [60, 58, 63, 9, 22, 14, 51, 54, 17, 20, 11, 23, 44, 3, 61, 55, 32, 40, 28, 22, 56, 46, 39, 11, 14, 9, 15, 15, 63, 61, 40, 31, 30, 37, 46, 20, 32, 62, 65, 41, 28, 61, 44, 61, 29, 53, 26, 35, 52, 27, 12, 37, 16, 55, 45, 16, 18, 9, 5, 19, 62, 44, 59, 43, 55, 43, 52, 53, 36, 57, 39, 56, 23, 4, 45, 56, 54, 43, 46, 11, 55, 8, 18, 60, 4, 43, 47, 39, 44, 52, 59, 58, 21, 25, 42, 59, 7, 56, 51, 50], 'IL': [49, 55, 14, 58, 61, 17, 14, 10, 36, 20, 17, 20, 50, 19, 16, 52, 49, 36, 58, 33, 12, 41, 60, 53, 21, 1, 17, 60, 48, 49, 38, 64, 51, 20, 16, 35, 34, 38, 2, 39, 12, 3, 1, 12, 12, 17, 52, 52, 0, 57], 'NY': [38, 50, 21, 42, 38, 61, 11, 35, 32, 22, 36, 0, 17, 46, 50, 64, 34, 7, 57, 8, 27, 45, 64, 37, 56, 36, 35, 4, 13, 29, 17, 0, 35, 61, 36, 30, 48, 52, 27, 53, 4, 41, 53, 59, 36, 14, 34, 55, 13, 46, 3, 57, 36, 59, 57, 47, 42, 55, 40, 52, 29, 53, 43, 38, 0, 9, 47, 16, 12, 11, 8, 45, 57, 9, 1, 4, 8, 42, 53, 49, 22, 23, 48, 33, 42, 52, 45, 24, 32, 20], 'WA': [31, 42, 30, 20, 11, 60, 14, 64, 63, 20, 18, 47, 4, 65, 28, 4, 2, 44, 45, 34, 38, 25, 2, 51, 1, 49, 14, 59, 62, 63, 20, 34, 61]}\n"
     ]
    }
   ],
   "source": [
    "print(new_noise)"
   ]
  },
  {
   "cell_type": "code",
   "execution_count": 23,
   "metadata": {},
   "outputs": [
    {
     "name": "stdout",
     "output_type": "stream",
     "text": [
      "Variable    Type              Data/Info\n",
      "---------------------------------------\n",
      "new_noise   dict              n=4\n",
      "pickle      module            <module 'pickle' from '/h<...>lib/python3.7/pickle.py'>\n",
      "random      module            <module 'random' from '/h<...>lib/python3.7/random.py'>\n",
      "read_file   BufferedReader    <_io.BufferedReader name='noise.pickle'>\n",
      "sys         module            <module 'sys' (built-in)>\n",
      "to_write    BufferedWriter    <_io.BufferedWriter name='noise.pickle'>\n"
     ]
    }
   ],
   "source": [
    "whos"
   ]
  },
  {
   "cell_type": "markdown",
   "metadata": {},
   "source": [
    "Random noise lives! We retrieved the entire structure from file. Nice."
   ]
  },
  {
   "cell_type": "markdown",
   "metadata": {},
   "source": [
    "### Okay, but I don't use dictionaries... I use pandas."
   ]
  },
  {
   "cell_type": "code",
   "execution_count": 24,
   "metadata": {},
   "outputs": [
    {
     "data": {
      "text/html": [
       "<div>\n",
       "<style scoped>\n",
       "    .dataframe tbody tr th:only-of-type {\n",
       "        vertical-align: middle;\n",
       "    }\n",
       "\n",
       "    .dataframe tbody tr th {\n",
       "        vertical-align: top;\n",
       "    }\n",
       "\n",
       "    .dataframe thead th {\n",
       "        text-align: right;\n",
       "    }\n",
       "</style>\n",
       "<table border=\"1\" class=\"dataframe\">\n",
       "  <thead>\n",
       "    <tr style=\"text-align: right;\">\n",
       "      <th></th>\n",
       "      <th>Yay</th>\n",
       "      <th>specific</th>\n",
       "      <th>column</th>\n",
       "      <th>names</th>\n",
       "    </tr>\n",
       "  </thead>\n",
       "  <tbody>\n",
       "    <tr>\n",
       "      <th>0</th>\n",
       "      <td>-1.520054</td>\n",
       "      <td>-3.756129</td>\n",
       "      <td>-1.188523</td>\n",
       "      <td>-5.920895</td>\n",
       "    </tr>\n",
       "    <tr>\n",
       "      <th>1</th>\n",
       "      <td>2.011778</td>\n",
       "      <td>-6.249218</td>\n",
       "      <td>-9.617391</td>\n",
       "      <td>-5.229386</td>\n",
       "    </tr>\n",
       "    <tr>\n",
       "      <th>2</th>\n",
       "      <td>-3.941536</td>\n",
       "      <td>1.304336</td>\n",
       "      <td>-5.100160</td>\n",
       "      <td>-3.299171</td>\n",
       "    </tr>\n",
       "    <tr>\n",
       "      <th>3</th>\n",
       "      <td>4.488796</td>\n",
       "      <td>0.573720</td>\n",
       "      <td>-4.166855</td>\n",
       "      <td>-4.524917</td>\n",
       "    </tr>\n",
       "    <tr>\n",
       "      <th>4</th>\n",
       "      <td>4.110271</td>\n",
       "      <td>8.884856</td>\n",
       "      <td>8.920690</td>\n",
       "      <td>6.794075</td>\n",
       "    </tr>\n",
       "  </tbody>\n",
       "</table>\n",
       "</div>"
      ],
      "text/plain": [
       "        Yay  specific    column     names\n",
       "0 -1.520054 -3.756129 -1.188523 -5.920895\n",
       "1  2.011778 -6.249218 -9.617391 -5.229386\n",
       "2 -3.941536  1.304336 -5.100160 -3.299171\n",
       "3  4.488796  0.573720 -4.166855 -4.524917\n",
       "4  4.110271  8.884856  8.920690  6.794075"
      ]
     },
     "execution_count": 24,
     "metadata": {},
     "output_type": "execute_result"
    }
   ],
   "source": [
    "import pandas as pd\n",
    "import numpy as np\n",
    "\n",
    "df = pd.DataFrame(np.random.uniform(-10,10, size=(100,4)), columns=['Yay','specific','column','names'])\n",
    "df.head(5)"
   ]
  },
  {
   "cell_type": "code",
   "execution_count": 25,
   "metadata": {},
   "outputs": [],
   "source": [
    "with open('my_dataframe.pickle', 'wb') as to_write:\n",
    "    pickle.dump(df, to_write)"
   ]
  },
  {
   "cell_type": "code",
   "execution_count": 26,
   "metadata": {},
   "outputs": [
    {
     "ename": "NameError",
     "evalue": "name 'df' is not defined",
     "output_type": "error",
     "traceback": [
      "\u001b[0;31m---------------------------------------------------------------------------\u001b[0m",
      "\u001b[0;31mNameError\u001b[0m                                 Traceback (most recent call last)",
      "\u001b[0;32m<ipython-input-26-3975f6306adf>\u001b[0m in \u001b[0;36m<module>\u001b[0;34m\u001b[0m\n\u001b[1;32m      1\u001b[0m \u001b[0;32mdel\u001b[0m \u001b[0mdf\u001b[0m\u001b[0;34m\u001b[0m\u001b[0;34m\u001b[0m\u001b[0m\n\u001b[1;32m      2\u001b[0m \u001b[0;34m\u001b[0m\u001b[0m\n\u001b[0;32m----> 3\u001b[0;31m \u001b[0mdf\u001b[0m\u001b[0;34m.\u001b[0m\u001b[0mhead\u001b[0m\u001b[0;34m(\u001b[0m\u001b[0;36m5\u001b[0m\u001b[0;34m)\u001b[0m\u001b[0;34m\u001b[0m\u001b[0;34m\u001b[0m\u001b[0m\n\u001b[0m",
      "\u001b[0;31mNameError\u001b[0m: name 'df' is not defined"
     ]
    }
   ],
   "source": [
    "del df\n",
    "\n",
    "df.head(5)"
   ]
  },
  {
   "cell_type": "code",
   "execution_count": 27,
   "metadata": {},
   "outputs": [
    {
     "data": {
      "text/html": [
       "<div>\n",
       "<style scoped>\n",
       "    .dataframe tbody tr th:only-of-type {\n",
       "        vertical-align: middle;\n",
       "    }\n",
       "\n",
       "    .dataframe tbody tr th {\n",
       "        vertical-align: top;\n",
       "    }\n",
       "\n",
       "    .dataframe thead th {\n",
       "        text-align: right;\n",
       "    }\n",
       "</style>\n",
       "<table border=\"1\" class=\"dataframe\">\n",
       "  <thead>\n",
       "    <tr style=\"text-align: right;\">\n",
       "      <th></th>\n",
       "      <th>Yay</th>\n",
       "      <th>specific</th>\n",
       "      <th>column</th>\n",
       "      <th>names</th>\n",
       "    </tr>\n",
       "  </thead>\n",
       "  <tbody>\n",
       "    <tr>\n",
       "      <th>0</th>\n",
       "      <td>-1.520054</td>\n",
       "      <td>-3.756129</td>\n",
       "      <td>-1.188523</td>\n",
       "      <td>-5.920895</td>\n",
       "    </tr>\n",
       "    <tr>\n",
       "      <th>1</th>\n",
       "      <td>2.011778</td>\n",
       "      <td>-6.249218</td>\n",
       "      <td>-9.617391</td>\n",
       "      <td>-5.229386</td>\n",
       "    </tr>\n",
       "    <tr>\n",
       "      <th>2</th>\n",
       "      <td>-3.941536</td>\n",
       "      <td>1.304336</td>\n",
       "      <td>-5.100160</td>\n",
       "      <td>-3.299171</td>\n",
       "    </tr>\n",
       "    <tr>\n",
       "      <th>3</th>\n",
       "      <td>4.488796</td>\n",
       "      <td>0.573720</td>\n",
       "      <td>-4.166855</td>\n",
       "      <td>-4.524917</td>\n",
       "    </tr>\n",
       "    <tr>\n",
       "      <th>4</th>\n",
       "      <td>4.110271</td>\n",
       "      <td>8.884856</td>\n",
       "      <td>8.920690</td>\n",
       "      <td>6.794075</td>\n",
       "    </tr>\n",
       "  </tbody>\n",
       "</table>\n",
       "</div>"
      ],
      "text/plain": [
       "        Yay  specific    column     names\n",
       "0 -1.520054 -3.756129 -1.188523 -5.920895\n",
       "1  2.011778 -6.249218 -9.617391 -5.229386\n",
       "2 -3.941536  1.304336 -5.100160 -3.299171\n",
       "3  4.488796  0.573720 -4.166855 -4.524917\n",
       "4  4.110271  8.884856  8.920690  6.794075"
      ]
     },
     "execution_count": 27,
     "metadata": {},
     "output_type": "execute_result"
    }
   ],
   "source": [
    "with open('my_dataframe.pickle','rb') as read_file:\n",
    "    new_df = pickle.load(read_file)\n",
    "    \n",
    "new_df.head(5)"
   ]
  },
  {
   "cell_type": "markdown",
   "metadata": {},
   "source": [
    "Pickle is a great tool. One recommended way of using it is to make it an end point of every step in your process. Example:\n",
    "\n",
    "* I got my data! Nice. Pickle it and stop your \"getting the data\" notebook.\n",
    "* Load your data from pickle. Clean it. Save your clean data to a new pickle.\n",
    "* Load your cleaned_data pickle. Do analysis and visualize it.\n",
    "\n",
    "This can provide natural \"pick-up-where-I-left-off-but-before-I-broke-my-data\" points. It's a great way to control the flow of your data.\n",
    "\n",
    "#### Resources\n",
    "\n",
    "https://docs.python.org/3.7/library/pickle.html"
   ]
  },
  {
   "cell_type": "code",
   "execution_count": null,
   "metadata": {},
   "outputs": [],
   "source": []
  }
 ],
 "metadata": {
  "kernelspec": {
   "display_name": "Python 3",
   "language": "python",
   "name": "python3"
  },
  "language_info": {
   "codemirror_mode": {
    "name": "ipython",
    "version": 3
   },
   "file_extension": ".py",
   "mimetype": "text/x-python",
   "name": "python",
   "nbconvert_exporter": "python",
   "pygments_lexer": "ipython3",
   "version": "3.7.6"
  }
 },
 "nbformat": 4,
 "nbformat_minor": 1
}
